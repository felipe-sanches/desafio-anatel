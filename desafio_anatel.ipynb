{
  "nbformat": 4,
  "nbformat_minor": 0,
  "metadata": {
    "colab": {
      "name": "desafio_anatel.ipynb",
      "provenance": [],
      "collapsed_sections": [],
      "mount_file_id": "1Fhh8v26QnuqfawC31-7PC7_s3DTcz_48",
      "authorship_tag": "ABX9TyNC2vXLjY8IzwvIiuIXkkRu",
      "include_colab_link": true
    },
    "kernelspec": {
      "name": "python3",
      "display_name": "Python 3"
    },
    "language_info": {
      "name": "python"
    }
  },
  "cells": [
    {
      "cell_type": "markdown",
      "metadata": {
        "id": "view-in-github",
        "colab_type": "text"
      },
      "source": [
        "<a href=\"https://colab.research.google.com/github/felipe-sanches/desafio-anatel/blob/main/desafio_anatel.ipynb\" target=\"_parent\"><img src=\"https://colab.research.google.com/assets/colab-badge.svg\" alt=\"Open In Colab\"/></a>"
      ]
    },
    {
      "cell_type": "markdown",
      "metadata": {
        "id": "nDPyFo2qaRlc"
      },
      "source": [
        "#Desafio Técnico\n",
        "Processo Seletivo de Estágio - ANATEL"
      ]
    },
    {
      "cell_type": "code",
      "metadata": {
        "id": "Sq2gV6_An7Ft"
      },
      "source": [
        "#importando bibliotecas necessárias\n",
        "import pandas as pd\n",
        "import matplotlib.pyplot as plt\n"
      ],
      "execution_count": null,
      "outputs": []
    },
    {
      "cell_type": "code",
      "metadata": {
        "colab": {
          "base_uri": "https://localhost:8080/",
          "height": 443
        },
        "id": "j8Tj_ay9rTdZ",
        "outputId": "0e543885-68cc-409c-cf7f-f285d8552095"
      },
      "source": [
        "#importando base de dados para dataframe\n",
        "df= pd.read_csv('/content/drive/MyDrive/Colab Notebooks/DESAFIO - Anatel/Base de dados final.xlsx - Sheet1.csv')\n",
        "\n",
        "# Identificando o volume de dados do DataFrame\n",
        "print(\"Entradas:\\t {}\".format(df.shape[0]))\n",
        "print(\"Variáveis:\\t {}\".format(df.shape[1]),\"\\n\")\n",
        "\n",
        "#Verificando quantidade de valores ausentes em cada variável do dataset\n",
        "print('Valores ausentes no Dataset:')\n",
        "print(df.isnull().sum(), '\\n')\n",
        "\n",
        "#Tipos de dados contidos no dataset\n",
        "print('Tipos de dados:')\n",
        "display(df.dtypes)"
      ],
      "execution_count": null,
      "outputs": [
        {
          "output_type": "stream",
          "text": [
            "Entradas:\t 16836\n",
            "Variáveis:\t 8 \n",
            "\n",
            "Valores ausentes no Dataset:\n",
            "Unidade de Lotação    0\n",
            "Processo SEI          0\n",
            "Tipo de Processo      0\n",
            "Usuários              0\n",
            "Atividades            0\n",
            "Tipo de Ação          0\n",
            "Pontuação             0\n",
            "Data Entrega          0\n",
            "dtype: int64 \n",
            "\n",
            "Tipos de dados:\n"
          ],
          "name": "stdout"
        },
        {
          "output_type": "display_data",
          "data": {
            "text/plain": [
              "Unidade de Lotação    object\n",
              "Processo SEI          object\n",
              "Tipo de Processo      object\n",
              "Usuários              object\n",
              "Atividades            object\n",
              "Tipo de Ação          object\n",
              "Pontuação             object\n",
              "Data Entrega          object\n",
              "dtype: object"
            ]
          },
          "metadata": {
            "tags": []
          }
        }
      ]
    },
    {
      "cell_type": "code",
      "metadata": {
        "colab": {
          "base_uri": "https://localhost:8080/",
          "height": 481
        },
        "id": "oKaYUNMisbL3",
        "outputId": "48039026-9fab-41ed-e20f-7a058553ab89"
      },
      "source": [
        "#verificando primeiras entradas do dataset\n",
        "df.head()"
      ],
      "execution_count": null,
      "outputs": [
        {
          "output_type": "execute_result",
          "data": {
            "text/html": [
              "<div>\n",
              "<style scoped>\n",
              "    .dataframe tbody tr th:only-of-type {\n",
              "        vertical-align: middle;\n",
              "    }\n",
              "\n",
              "    .dataframe tbody tr th {\n",
              "        vertical-align: top;\n",
              "    }\n",
              "\n",
              "    .dataframe thead th {\n",
              "        text-align: right;\n",
              "    }\n",
              "</style>\n",
              "<table border=\"1\" class=\"dataframe\">\n",
              "  <thead>\n",
              "    <tr style=\"text-align: right;\">\n",
              "      <th></th>\n",
              "      <th>Unidade de Lotação</th>\n",
              "      <th>Processo SEI</th>\n",
              "      <th>Tipo de Processo</th>\n",
              "      <th>Usuários</th>\n",
              "      <th>Atividades</th>\n",
              "      <th>Tipo de Ação</th>\n",
              "      <th>Pontuação</th>\n",
              "      <th>Data Entrega</th>\n",
              "    </tr>\n",
              "  </thead>\n",
              "  <tbody>\n",
              "    <tr>\n",
              "      <th>0</th>\n",
              "      <td>GR01FI3</td>\n",
              "      <td>01245.123456/2021-69</td>\n",
              "      <td>Fiscalização: Outorga</td>\n",
              "      <td>Marco Rossi</td>\n",
              "      <td>TEC_13_1 - Elaborar documentação de fiscalização</td>\n",
              "      <td>Análise</td>\n",
              "      <td>4</td>\n",
              "      <td>22/01/2021</td>\n",
              "    </tr>\n",
              "    <tr>\n",
              "      <th>1</th>\n",
              "      <td>FIGF</td>\n",
              "      <td>01245.123457/2020-58</td>\n",
              "      <td>Fiscalização: Radiodifusão</td>\n",
              "      <td>Andrea Russo</td>\n",
              "      <td>FIGF_14_1 - Preparar resposta a demandantes 1</td>\n",
              "      <td>Análise</td>\n",
              "      <td>4</td>\n",
              "      <td>09/11/2020</td>\n",
              "    </tr>\n",
              "    <tr>\n",
              "      <th>2</th>\n",
              "      <td>FIGF</td>\n",
              "      <td>01245.123457/2020-58</td>\n",
              "      <td>Fiscalização: Radiodifusão</td>\n",
              "      <td>Giuseppe Ferrari</td>\n",
              "      <td>FIGF_14_1 - Preparar resposta a demandantes 1</td>\n",
              "      <td>Revisão</td>\n",
              "      <td>0,5</td>\n",
              "      <td>09/11/2020</td>\n",
              "    </tr>\n",
              "    <tr>\n",
              "      <th>3</th>\n",
              "      <td>FIGF</td>\n",
              "      <td>01250.123459/2016-11</td>\n",
              "      <td>Demanda Externa: Órgãos Governamentais Federais</td>\n",
              "      <td>Antonio Esposito</td>\n",
              "      <td>FIGF_14_1 - Preparar resposta a demandantes 1</td>\n",
              "      <td>Análise</td>\n",
              "      <td>4</td>\n",
              "      <td>24/02/2021</td>\n",
              "    </tr>\n",
              "    <tr>\n",
              "      <th>4</th>\n",
              "      <td>FIGF</td>\n",
              "      <td>01250.123459/2016-11</td>\n",
              "      <td>Demanda Externa: Órgãos Governamentais Federais</td>\n",
              "      <td>Antonio Esposito</td>\n",
              "      <td>FIGF_14_1 - Preparar resposta a demandantes 1</td>\n",
              "      <td>Revisão</td>\n",
              "      <td>0</td>\n",
              "      <td>26/02/2021</td>\n",
              "    </tr>\n",
              "  </tbody>\n",
              "</table>\n",
              "</div>"
            ],
            "text/plain": [
              "  Unidade de Lotação          Processo SEI  ... Pontuação Data Entrega\n",
              "0            GR01FI3  01245.123456/2021-69  ...         4   22/01/2021\n",
              "1               FIGF  01245.123457/2020-58  ...         4   09/11/2020\n",
              "2               FIGF  01245.123457/2020-58  ...       0,5   09/11/2020\n",
              "3               FIGF  01250.123459/2016-11  ...         4   24/02/2021\n",
              "4               FIGF  01250.123459/2016-11  ...         0   26/02/2021\n",
              "\n",
              "[5 rows x 8 columns]"
            ]
          },
          "metadata": {
            "tags": []
          },
          "execution_count": 94
        }
      ]
    },
    {
      "cell_type": "markdown",
      "metadata": {
        "id": "d5QI8mGsa-Ul"
      },
      "source": [
        "# Visualização 1\n",
        "Qual a proporção de Fiscais envolvidos na análise de atividades centralizadas, em relação ao total de Fiscais? "
      ]
    },
    {
      "cell_type": "code",
      "metadata": {
        "colab": {
          "base_uri": "https://localhost:8080/"
        },
        "id": "HiZAJ0b_VSw2",
        "outputId": "46b66804-4249-4726-eae5-160d33460d59"
      },
      "source": [
        "#Filtrando os ficais\n",
        "fiscais = df.loc[df['Unidade de Lotação'] != 'FIGF']\n",
        "\n",
        "#verificando atraves do metodo describe a quantidade total de usuarios que sao fiscais\n",
        "fiscais['Usuários'].describe()"
      ],
      "execution_count": null,
      "outputs": [
        {
          "output_type": "execute_result",
          "data": {
            "text/plain": [
              "count           15100\n",
              "unique            331\n",
              "top       Lucca Mason\n",
              "freq              604\n",
              "Name: Usuários, dtype: object"
            ]
          },
          "metadata": {
            "tags": []
          },
          "execution_count": 95
        }
      ]
    },
    {
      "cell_type": "code",
      "metadata": {
        "id": "vslW2X9qXYh4"
      },
      "source": [
        "#filtrando entre os registros total dos fiscais, quais registros são de análises\n",
        "analise = fiscais.loc[fiscais['Tipo de Ação'] == 'Análise']\n"
      ],
      "execution_count": null,
      "outputs": []
    },
    {
      "cell_type": "code",
      "metadata": {
        "colab": {
          "base_uri": "https://localhost:8080/"
        },
        "id": "iBL2TwkGGJeF",
        "outputId": "1d997082-baa5-4752-ebec-5a34bb47c9f3"
      },
      "source": [
        "#definindo quais sao as atividades centralizadas\n",
        "centr = analise[analise['Atividades'].str.contains(\"SERV\")]\n",
        "centr = centr[centr['Atividades'].str.contains(\"entr\")]\n",
        "centr1= centr[centr['Atividades'].str.contains(\"SERV_08\")]\n",
        "\n",
        "result = centr.loc[centr.index.difference(centr1.index)]\n",
        "\n",
        "#\n",
        "print(result['Atividades'].value_counts())"
      ],
      "execution_count": null,
      "outputs": [
        {
          "output_type": "stream",
          "text": [
            "SERV_18_3_25%-PARCIAL Relat. Centraliz. Recorrente       46\n",
            "SERV_18_3 - Relatório Centralizada Recorrente            40\n",
            "SERV_02_2 - Anali. e planej. centraliz. recorrente       30\n",
            "SERV_18_4 - Relatório - Centralizada Não Recorrente      21\n",
            "SERV_18_4_25%-PARCIAL Relat. Centraliz. Ñ Recor.         16\n",
            "SERV_02_2_50%-PARCIAL Ana.e plan. centra. recorr.        15\n",
            "SERV_11_1 - Acompanhar Parciais pelo centralizador       14\n",
            "SERV_02_3_25%-PARCIAL Anali. e Plan. Centr. ñ Recorr.     9\n",
            "SERV_02_3 - Anali. e plan. centraliz. ñ recorrente        9\n",
            "SERV_18_4_50%-PARCIAL Relat. Centraliz. Ñ Recor.          8\n",
            "SERV_18_3_50%-PARCIAL Relat. Centraliz. Recorrente        8\n",
            "SERV_02_2_25%-PARCIAL Ana.e plan. centra. recorr.         7\n",
            "SERV_02_3_50%-PARCIAL Anali. e Plan. Centr. ñ Rec.        4\n",
            "SERV_03_2_25%-PARCIAL Plan Coor. Centr. Coordenador       2\n",
            "SERV_18_4_10%-PARCIAL Relat. Centraliz. Ñ Recor.          2\n",
            "SERV_03_2_50%-PARCIAL Plan Coord Centr Coordenador        1\n",
            "SERV_11_1_25%-PARCIAL Acompa. Parc.centralizad.           1\n",
            "SERV_19_1 - Conclusão Coordenação Centralizadores         1\n",
            "Name: Atividades, dtype: int64\n"
          ],
          "name": "stdout"
        }
      ]
    },
    {
      "cell_type": "code",
      "metadata": {
        "colab": {
          "base_uri": "https://localhost:8080/"
        },
        "id": "NfcOLQ_ngYMB",
        "outputId": "db16e607-6751-4e52-e3af-0dfdca967565"
      },
      "source": [
        "total = fiscais['Usuários'].unique()\n",
        "atvcentr = result['Usuários'].unique()\n",
        "\n",
        "print('Total de fiscais:', len(total))\n",
        "print('Fiscais Envolvidos na analise de atv centralizada:', len(atvcentr))"
      ],
      "execution_count": null,
      "outputs": [
        {
          "output_type": "stream",
          "text": [
            "Total de fiscais: 331\n",
            "Fiscais Envolvidos na analise de atv centralizada: 60\n"
          ],
          "name": "stdout"
        }
      ]
    },
    {
      "cell_type": "code",
      "metadata": {
        "colab": {
          "base_uri": "https://localhost:8080/",
          "height": 247
        },
        "id": "J2fJbzaIxcHp",
        "outputId": "029ae563-b58e-48cc-d85a-9782eee57a52"
      },
      "source": [
        "# Grafico de Pizza apresentando a proporção\n",
        "labels = 'Total de fiscais', 'Fiscais atv centralizada'\n",
        "sizes = [len(total), len(atvcentr)]\n",
        "explode = (0, 0.1)  \n",
        "\n",
        "fig1, ax1 = plt.subplots()\n",
        "ax1.pie(sizes, explode=explode, labels=labels, autopct='%1.1f%%',shadow=True, startangle=90)\n",
        "ax1.axis('equal')\n",
        "plt.show()"
      ],
      "execution_count": null,
      "outputs": [
        {
          "output_type": "display_data",
          "data": {
            "image/png": "[encoded data removed]",
            "text/plain": [
              "<Figure size 432x288 with 1 Axes>"
            ]
          },
          "metadata": {
            "tags": []
          }
        }
      ]
    },
    {
      "cell_type": "markdown",
      "metadata": {
        "id": "gZRRPhb0lEDg"
      },
      "source": [
        "# Visualizacao 2\n",
        "\n",
        "Grafico de Barras."
      ]
    },
    {
      "cell_type": "code",
      "metadata": {
        "id": "loQfB3MZl_cW"
      },
      "source": [
        "from datetime import datetime"
      ],
      "execution_count": null,
      "outputs": []
    },
    {
      "cell_type": "code",
      "metadata": {
        "id": "PGI4-sG2lKgI"
      },
      "source": [
        "#Convertendo a coluna Data Entrega para o tipo datetime\n",
        "df['Data Entrega'] = pd.to_datetime(df['Data Entrega'])\n",
        "\n",
        "#Trocando virgulas por pontos e convertendo a coluna Pontuação para o tipo Float \n",
        "df['Pontuação'] = df['Pontuação'].str.replace(',', '.')\n",
        "df['Pontuação'] = df['Pontuação'].astype(float)\n",
        "\n",
        "#determinando o periodo de tempo\n",
        "periodo = df.loc[(df['Data Entrega'] > '2020-11-01') & (df['Data Entrega'] <= '2021-03-31')]"
      ],
      "execution_count": null,
      "outputs": []
    },
    {
      "cell_type": "code",
      "metadata": {
        "id": "0FnEG8iXGV7t"
      },
      "source": [
        "soma = periodo['Pontuação'].groupby(periodo['Usuários']).sum()\n",
        "\n",
        "score = soma.sort_values(ascending= True).tail(10)"
      ],
      "execution_count": null,
      "outputs": []
    },
    {
      "cell_type": "code",
      "metadata": {
        "colab": {
          "base_uri": "https://localhost:8080/",
          "height": 441
        },
        "id": "nxHikOlHq5xb",
        "outputId": "847e23b5-bff4-41f8-f84a-a9a19566f67d"
      },
      "source": [
        "fig, ax = plt.subplots(figsize=(10,6))\n",
        "\n",
        "score.plot(x=\"Usuários\", kind=\"barh\", ax=ax)\n",
        "\n",
        "ax.set_title(\"Score\")\n",
        "ax.set_xlabel(\"Pontuação\")\n",
        "ax.set_ylabel(\"Usuários\")\n",
        "\n",
        "for index, value in enumerate(score):\n",
        "    plt.text(value, index, str(value))\n",
        "\n",
        "plt.tight_layout()"
      ],
      "execution_count": null,
      "outputs": [
        {
          "output_type": "display_data",
          "data": {
            "image/png": "[encoded data removed]",
            "text/plain": [
              "<Figure size 720x432 with 1 Axes>"
            ]
          },
          "metadata": {
            "tags": [],
            "needs_background": "light"
          }
        }
      ]
    },
    {
      "cell_type": "markdown",
      "metadata": {
        "id": "Fu_eN43H_ZHP"
      },
      "source": [
        "#Visualizacao 3"
      ]
    },
    {
      "cell_type": "code",
      "metadata": {
        "id": "AL2prdK8qfei"
      },
      "source": [
        "#Encontrando a unidade que mais pontuou\n",
        "agrupapont = df['Pontuação'].groupby(df['Unidade de Lotação']).sum()\n",
        "\n",
        "ordenapont = agrupapont.sort_values(ascending= False).head(10)\n",
        "\n",
        "vis3 = df.loc[df['Unidade de Lotação'] == ordenapont.index[0]]"
      ],
      "execution_count": null,
      "outputs": []
    },
    {
      "cell_type": "code",
      "metadata": {
        "colab": {
          "base_uri": "https://localhost:8080/"
        },
        "id": "adfy4AMUVs7L",
        "outputId": "f7d3599f-2e05-4325-eabb-96cbe8b049ab"
      },
      "source": [
        "#tratando a variavel 'Data Entrega'\n",
        "vis3['Data Entrega'] = vis3['Data Entrega'].dt.strftime('%Y-%m')\n",
        "\n",
        "#Agrupando contagem de atividades por mes\n",
        "atividade = vis3['Atividades'].groupby(vis3['Data Entrega']).count()\n",
        "\n",
        "print(atividade.head())"
      ],
      "execution_count": null,
      "outputs": [
        {
          "output_type": "stream",
          "text": [
            "Data Entrega\n",
            "2020-02     1\n",
            "2020-03    30\n",
            "2020-04    46\n",
            "2020-05    10\n",
            "2020-06    20\n",
            "Name: Atividades, dtype: int64\n"
          ],
          "name": "stdout"
        },
        {
          "output_type": "stream",
          "text": [
            "/usr/local/lib/python3.7/dist-packages/ipykernel_launcher.py:2: SettingWithCopyWarning: \n",
            "A value is trying to be set on a copy of a slice from a DataFrame.\n",
            "Try using .loc[row_indexer,col_indexer] = value instead\n",
            "\n",
            "See the caveats in the documentation: https://pandas.pydata.org/pandas-docs/stable/user_guide/indexing.html#returning-a-view-versus-a-copy\n",
            "  \n"
          ],
          "name": "stderr"
        }
      ]
    },
    {
      "cell_type": "code",
      "metadata": {
        "colab": {
          "base_uri": "https://localhost:8080/",
          "height": 322
        },
        "id": "hQv5ckCp247P",
        "outputId": "37249e21-8c3f-4731-ba6c-f30019fd9483"
      },
      "source": [
        "# plotando gráfico de analise \n",
        "fig, ax = plt.subplots(nrows=1, ncols=1, figsize=(10,4))\n",
        "\n",
        "atividade.plot(kind=\"line\",ax=ax)\n",
        "\n",
        "ax.set_xlabel(\"Mês\")\n",
        "ax.set_ylabel(\"Quant. Atividades\")\n",
        "ax.set_title(\"Atividades por mês da Unidade com Maior Pontuação\")\n",
        "plt.xticks(range(0,len(atividade.index)), atividade.index, rotation = 45)\n",
        "\n",
        "plt.show()"
      ],
      "execution_count": null,
      "outputs": [
        {
          "output_type": "display_data",
          "data": {
            "image/png": "[encoded data removed]",
            "text/plain": [
              "<Figure size 720x288 with 1 Axes>"
            ]
          },
          "metadata": {
            "tags": [],
            "needs_background": "light"
          }
        }
      ]
    }
  ]
}